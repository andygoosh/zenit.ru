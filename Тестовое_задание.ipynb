{
  "nbformat": 4,
  "nbformat_minor": 0,
  "metadata": {
    "colab": {
      "name": "Тестовое задание.ipynb",
      "provenance": [],
      "collapsed_sections": [
        "ve0nhwwGDz2K"
      ],
      "authorship_tag": "ABX9TyNmiJrIh6gcrr7fusGVggqP",
      "include_colab_link": true
    },
    "kernelspec": {
      "name": "python3",
      "display_name": "Python 3"
    }
  },
  "cells": [
    {
      "cell_type": "markdown",
      "metadata": {
        "id": "view-in-github",
        "colab_type": "text"
      },
      "source": [
        "<a href=\"https://colab.research.google.com/github/andygoosh/zenit.ru/blob/master/%D0%A2%D0%B5%D1%81%D1%82%D0%BE%D0%B2%D0%BE%D0%B5_%D0%B7%D0%B0%D0%B4%D0%B0%D0%BD%D0%B8%D0%B5.ipynb\" target=\"_parent\"><img src=\"https://colab.research.google.com/assets/colab-badge.svg\" alt=\"Open In Colab\"/></a>"
      ]
    },
    {
      "cell_type": "markdown",
      "metadata": {
        "id": "ve0nhwwGDz2K",
        "colab_type": "text"
      },
      "source": [
        "## Задание 1"
      ]
    },
    {
      "cell_type": "markdown",
      "metadata": {
        "id": "AjrV55oxD3xI",
        "colab_type": "text"
      },
      "source": [
        "### В соответствии со стандартами обслуживания  клиентов среднее время ожидания клиентом ответа оператора не должно превышать 20 секунд. Для проверки качества обслуживания клиентов была проанализирована выборка из 30 звонков. На основе представленных данных можно ли утверждать, что  среднее время ожидания ответа оператора возросло и составляет более 20 секунд (допуская, что данные в генеральной совокупности имеют нормальное распределение)."
      ]
    },
    {
      "cell_type": "code",
      "metadata": {
        "id": "3CeHXzJwEOkA",
        "colab_type": "code",
        "colab": {
          "base_uri": "https://localhost:8080/",
          "height": 34
        },
        "outputId": "225d56d0-2eca-4797-cfaf-a0197d7d96ed"
      },
      "source": [
        "import numpy as np \n",
        "wt = [27, 24, 17, 19, 30, 29, 23, 31, 19, 18, 26, 24, 20, 22, 15, 7, 25, 27, 28, 28, 24, 19, 15, 21, 31, 11, 36, 24, 16, 29,]\n",
        "n = len(wt)\n",
        "Xcp = np.mean(wt)\n",
        "S = np.std(wt)\n",
        "print(f'n={n} X cp.={Xcp:.3f} S={S:.3f}')"
      ],
      "execution_count": 79,
      "outputs": [
        {
          "output_type": "stream",
          "text": [
            "n=30 X cp.=22.833 S=6.367\n"
          ],
          "name": "stdout"
        }
      ]
    },
    {
      "cell_type": "markdown",
      "metadata": {
        "id": "vUipfj9GEB6A",
        "colab_type": "text"
      },
      "source": [
        "Найдем доверительный интервал 99% для генеральной выборки. Для нахождения доверительного интервала воспользуемся формулой, соответствующей критерию Стьюдента. По условию имеем n = 30, Х ср.=22.833, S=6.476, Р = 0,99 По таблице для n = 30 и Р = 0,99 находим t=2,756, следовательно,"
      ]
    },
    {
      "cell_type": "code",
      "metadata": {
        "id": "ZaelHwoHYVGT",
        "colab_type": "code",
        "colab": {}
      },
      "source": [
        "22.833 - 2,756*6.476/√30 < X cp.ген. < 22.833 + 2,756*6.476/√30 "
      ],
      "execution_count": 0,
      "outputs": []
    },
    {
      "cell_type": "code",
      "metadata": {
        "id": "7pCMyhtEQDOK",
        "colab_type": "code",
        "colab": {
          "base_uri": "https://localhost:8080/",
          "height": 34
        },
        "outputId": "e50bc023-8eac-4a5d-d08b-2fa8cca7e87e"
      },
      "source": [
        "t = 2.756\n",
        "print(f'{Xcp - t * S / math.sqrt(30):.5f} < X cp.ген. < {Xcp + t * S / math.sqrt(30):.5f}')"
      ],
      "execution_count": 77,
      "outputs": [
        {
          "output_type": "stream",
          "text": [
            "19.62961 < X cp.ген. < 26.03705\n"
          ],
          "name": "stdout"
        }
      ]
    },
    {
      "cell_type": "markdown",
      "metadata": {
        "id": "tbYsDqlwJHhH",
        "colab_type": "text"
      },
      "source": [
        "Cогласно полученному мы не можем однозначно определить, больше ли ген.среднее 20 сек."
      ]
    },
    {
      "cell_type": "markdown",
      "metadata": {
        "id": "xg81DwbVJTXu",
        "colab_type": "text"
      },
      "source": [
        "Найдем доверительный интервал 95% для генеральной выборки. Для нахождения доверительного интервала воспользуемся формулой, соответствующей критерию Стьюдента. По условию имеем n = 30, Хср.=22.833, S=6.476, Р = 0,95 По таблице для n = 30 и Р = 0,95 находим t=2.045, следовательно,\n",
        "22.833 - t=2.045x6.476/√30 < X cp.ген. < 22.833 - t=2.045x6.476/√30"
      ]
    },
    {
      "cell_type": "code",
      "metadata": {
        "id": "gl3j2secQTIK",
        "colab_type": "code",
        "colab": {
          "base_uri": "https://localhost:8080/",
          "height": 34
        },
        "outputId": "311a54f2-4e0c-40f1-9bf5-3a5b87f43396"
      },
      "source": [
        "t = 2.045\n",
        "print(f'{Xcp - t * S / math.sqrt(30):.5f} < X cp.ген. < {Xcp + t * S / math.sqrt(30):.5f}')"
      ],
      "execution_count": 78,
      "outputs": [
        {
          "output_type": "stream",
          "text": [
            "20.45612 < X cp.ген. < 25.21055\n"
          ],
          "name": "stdout"
        }
      ]
    },
    {
      "cell_type": "markdown",
      "metadata": {
        "id": "JlcLSKeOJtSK",
        "colab_type": "text"
      },
      "source": [
        "Т.е. с вероятностью 95% можно утверждать, что среднее время ответа составляет более 20 секунд."
      ]
    },
    {
      "cell_type": "markdown",
      "metadata": {
        "id": "Sdf9Djj6tG0_",
        "colab_type": "text"
      },
      "source": [
        "## Задание 2"
      ]
    },
    {
      "cell_type": "markdown",
      "metadata": {
        "id": "F3N1se0msLZT",
        "colab_type": "text"
      },
      "source": [
        "### Представленные данные показывают объем продаж товара в зависимости в зависимости от расходов на рекламу в регионе."
      ]
    },
    {
      "cell_type": "code",
      "metadata": {
        "id": "bNDvR-2TR9T5",
        "colab_type": "code",
        "colab": {
          "base_uri": "https://localhost:8080/",
          "height": 296
        },
        "outputId": "8a6a6041-9190-4c16-9d4b-5e56b5e8ee15"
      },
      "source": [
        "spent = [230.1, 44.5, 17.2, 151.5, 180.8, 8.7, 57.5, 120.2, 8.6, 199.8, 66.1, 214.7, 23.8, 97.5, 204.1, 195.4, 67.8, 281.4, 69.2, 147.3, 218.4, 237.4, 13.2, 228.3, 62.3, 262.9, 142.9, 240.1, 248.8, 70.6, 292.9, 112.9, 97.2, 265.6, 95.7, 290.7, 266.9, 74.7, 43.1, 228, 202.5, 177, 293.6, 206.9, 25.1, 175.1, 89.7, 239.9, 227.2, 66.9, 199.8, 100.4, 216.4, 182.6, 262.7, 198.9, 7.3, 136.2, 210.8, 210.7, 53.5, 261.3, 239.3, 102.7, 131.1, 69, 31.5, 139.3, 237.4, 216.8, 199.1, 109.8, 26.8, 129.4, 213.4, 16.9, 27.5, 120.5, 5.4, 116, 76.4, 239.8, 75.3, 68.4, 213.5, 193.2, 76.3, 110.7, 88.3, 109.8, 134.3, 28.6, 217.7, 250.9, 107.4, 163.3, 197.6, 184.9, 289.7, 135.2, 222.4, 296.4, 280.2, 187.9, 238.2, 137.9, 25, 90.4, 13.1, 255.4, 225.8, 241.7, 175.7, 209.6, 78.2, 75.1, 139.2, 76.4, 125.7, 19.4, 141.3, 18.8, 224, 123.1, 229.5, 87.2, 7.8, 80.2, 220.3, 59.6, 0.7, 265.2, 8.4, 219.8, 36.9, 48.3, 25.6, 273.7, 43, 184.9, 73.4, 193.7, 220.5, 104.6, 96.2, 140.3, 240.1, 243.2, 38, 44.7, 280.7, 121, 197.6, 171.3, 187.8, 4.1, 93.9, 149.8, 11.7, 131.7, 172.5, 85.7, 188.4, 163.5, 117.2, 234.5, 17.9, 206.8, 215.4, 284.3, 50, 164.5, 19.6, 168.4, 222.4, 276.9, 248.4, 170.2, 276.7, 165.6, 156.6, 218.5, 56.2, 287.6, 253.8, 205, 139.5, 191.1, 286, 18.7, 39.5, 75.5, 17.2, 166.8, 149.7, 38.2, 94.2, 177, 283.6, 232.1,]\n",
        "sell = [22.1, 10.4, 9.3, 18.5, 12.9, 7.2, 11.8, 13.2, 4.8, 10.6, 8.6, 17.4, 9.2, 9.7, 19, 22.4, 12.5, 24.4, 11.3, 14.6, 18, 12.5, 5.6, 15.5, 9.7, 12, 15, 15.9, 18.9, 10.5, 21.4, 11.9, 9.6, 17.4, 9.5, 12.8, 25.4, 14.7, 10.1, 21.5, 16.6, 17.1, 20.7, 12.9, 8.5, 14.9, 10.6, 23.2, 14.8, 9.7, 11.4, 10.7, 22.6, 21.2, 20.2, 23.7, 5.5, 13.2, 23.8, 18.4, 8.1, 24.2, 15.7, 14, 18, 9.3, 9.5, 13.4, 18.9, 22.3, 18.3, 12.4, 8.8, 11, 17, 8.7, 6.9, 14.2, 5.3, 11, 11.8, 12.3, 11.3, 13.6, 21.7, 15.2, 12, 16, 12.9, 16.7, 11.2, 7.3, 19.4, 22.2, 11.5, 16.9, 11.7, 15.5, 25.4, 17.2, 11.7, 23.8, 14.8, 14.7, 20.7, 19.2, 7.2, 8.7, 5.3, 19.8, 13.4, 21.8, 14.1, 15.9, 14.6, 12.6, 12.2, 9.4, 15.9, 6.6, 15.5, 7, 11.6, 15.2, 19.7, 10.6, 6.6, 8.8, 24.7, 9.7, 1.6, 12.7, 5.7, 19.6, 10.8, 11.6, 9.5, 20.8, 9.6, 20.7, 10.9, 19.2, 20.1, 10.4, 11.4, 10.3, 13.2, 25.4, 10.9, 10.1, 16.1, 11.6, 16.6, 19, 15.6, 3.2, 15.3, 10.1, 7.3, 12.9, 14.4, 13.3, 14.9, 18, 11.9, 11.9, 8, 12.2, 17.1, 15, 8.4, 14.5, 7.6, 11.7, 11.5, 27, 20.2, 11.7, 11.8, 12.6, 10.5, 12.2, 8.7, 26.2, 17.6, 22.6, 10.3, 17.3, 15.9, 6.7, 10.8, 9.9, 5.9, 19.6, 17.3, 7.6, 9.7, 12.8, 25.5, 13.4,]\n",
        "import pandas as pd\n",
        "data = pd.DataFrame({'spent': spent, 'sell': sell}).sort_values(by='spent')\n",
        "ax = data.plot.scatter('spent', 'sell')\n",
        "print(len(sell))"
      ],
      "execution_count": 74,
      "outputs": [
        {
          "output_type": "stream",
          "text": [
            "200\n"
          ],
          "name": "stdout"
        },
        {
          "output_type": "display_data",
          "data": {
            "image/png": "[encoded data removed]",
            "text/plain": [
              "<Figure size 432x288 with 1 Axes>"
            ]
          },
          "metadata": {
            "tags": []
          }
        }
      ]
    },
    {
      "cell_type": "markdown",
      "metadata": {
        "id": "mCq4RKKEshaH",
        "colab_type": "text"
      },
      "source": [
        "### Постройте линейную регрессионную модель, позволяющую предсказывать объем продаж в регионе в зависимости от расходов на рекламу. Напишите уравнение регресссии."
      ]
    },
    {
      "cell_type": "code",
      "metadata": {
        "id": "81iDv8x8e0LZ",
        "colab_type": "code",
        "colab": {
          "base_uri": "https://localhost:8080/",
          "height": 51
        },
        "outputId": "800b7db6-6cc4-46ad-f000-8aa6beed4558"
      },
      "source": [
        "import sklearn\n",
        "from sklearn.linear_model import LinearRegression\n",
        "import matplotlib.pyplot as plt\n",
        "\n",
        "reg = LinearRegression().fit(data[['spent']], data['sell'])\n",
        "import numpy as np\n",
        "x = [[0],[121],[300]]\n",
        "y = reg.predict(x)\n",
        "print(f'Уравнение регресссии: y = {reg.coef_[0]:.5f}x + {y[0]:.5f}')\n",
        "print('где х - Затраты на рекламу, тыс. руб., y - Объем продаж, тыс. шт.')"
      ],
      "execution_count": 82,
      "outputs": [
        {
          "output_type": "stream",
          "text": [
            "Уравнение регресссии: y = 0.04754x + 7.03259\n",
            "где х - Затраты на рекламу, тыс. руб., y - Объем продаж, тыс. шт.\n"
          ],
          "name": "stdout"
        }
      ]
    },
    {
      "cell_type": "markdown",
      "metadata": {
        "id": "csqFOauXrSEr",
        "colab_type": "text"
      },
      "source": [
        "### Предскажите объем продаж при расходах на рекламу в 121 тыс. руб."
      ]
    },
    {
      "cell_type": "code",
      "metadata": {
        "id": "EBbM97MVq4sh",
        "colab_type": "code",
        "colab": {
          "base_uri": "https://localhost:8080/",
          "height": 34
        },
        "outputId": "3ac97a60-7b2b-46b5-94e7-a97e408913d7"
      },
      "source": [
        "print(f'Объем продаж при расходах на рекламу в 121 тыс. руб. = {y[1]:.3f} тыс. шт.')"
      ],
      "execution_count": 86,
      "outputs": [
        {
          "output_type": "stream",
          "text": [
            "Объем продаж при расходах на рекламу в 121 тыс. руб. = 12.785 тыс. шт.\n"
          ],
          "name": "stdout"
        }
      ]
    },
    {
      "cell_type": "markdown",
      "metadata": {
        "id": "4W5JfPfhrZw-",
        "colab_type": "text"
      },
      "source": [
        "### Дайте графическую интерпритацию, полученных результатов (отобразите на одном графике уравнение регрессии и наблюдения, представленные в наборе данных)"
      ]
    },
    {
      "cell_type": "code",
      "metadata": {
        "id": "DKmLTwubiFyc",
        "colab_type": "code",
        "colab": {
          "base_uri": "https://localhost:8080/",
          "height": 296
        },
        "outputId": "987aad39-ad2b-4daf-99fa-51b69fa23046"
      },
      "source": [
        "ax = data.plot.scatter('spent', 'sell',)\n",
        "ax.plot(x, y, 'ro--')"
      ],
      "execution_count": 66,
      "outputs": [
        {
          "output_type": "execute_result",
          "data": {
            "text/plain": [
              "[<matplotlib.lines.Line2D at 0x7fea28ca4390>]"
            ]
          },
          "metadata": {
            "tags": []
          },
          "execution_count": 66
        },
        {
          "output_type": "display_data",
          "data": {
            "image/png": "[encoded data removed]",
            "text/plain": [
              "<Figure size 432x288 with 1 Axes>"
            ]
          },
          "metadata": {
            "tags": []
          }
        }
      ]
    },
    {
      "cell_type": "markdown",
      "metadata": {
        "id": "zmWax9g0tUCs",
        "colab_type": "text"
      },
      "source": [
        "### Сделайте вывод о статистической значимости коэффициентов линейной регрессии"
      ]
    },
    {
      "cell_type": "markdown",
      "metadata": {
        "id": "3esCi4zWClih",
        "colab_type": "text"
      },
      "source": [
        "t(0.05, 200-2) = \n",
        "p = "
      ]
    },
    {
      "cell_type": "markdown",
      "metadata": {
        "id": "FixGfyHoOf-r",
        "colab_type": "text"
      },
      "source": [
        "## Задача 3"
      ]
    },
    {
      "cell_type": "markdown",
      "metadata": {
        "id": "mL_h_hfB_ocI",
        "colab_type": "text"
      },
      "source": [
        "### Имеются две модели, предсказывающие вероятность дефолта клиента и фактические наблюдения данного события (1 - факт дефолта клиента, 0 - отсутствие  дефолта клиента)"
      ]
    },
    {
      "cell_type": "code",
      "metadata": {
        "id": "SNjlPq3-OjkI",
        "colab_type": "code",
        "colab": {
          "base_uri": "https://localhost:8080/",
          "height": 34
        },
        "outputId": "21b79f0d-766f-4adc-ea1f-a482b40170a7"
      },
      "source": [
        "data = [\n",
        "        [0, 0, 0, 0, 0, 1, 0, 1, 0, 0, 0, 0, 1, 1, 1, 1, 1, 1, 0, 0, 1, 1, 0, 1, 1, 0, 1, 1, 1, 0, 0, 0, 0, 1, 1, 1, 0, 0, 0, 1, 0, 0, 1, 1, 1, 1, 0, 1, 0, 0, 1, 0, 0, 0, 0, 1, 0, 1, 0, 0, 0, 0, 0, 0, 1, 1, 1, 1, 1, 1, 1, 0, 1, 1, 1, 1, 0, 0, 0, 1, 0, 1, 0, 1, 0, 1, 0, 0, 1, 1, 0, 1, 1, 1, 0, 0, 0, 0, 0, 0, 0, 1, 1, 0, 0, 1, 0, 1, 0, 0, 0, 0, 0, 0, 1, 1, 0, 1, 1, 1, 1, 1, 1, 1, 1, 0, 0, 1, 0, 1, 1, 1, 0, 0, 1, 1, 1, 0, 1, 0, 0, 1, 0, 0, 0, 1, 0, 1, 1, 0, 1, 0, 1, 0, 0, 1, 1, 0, 0, 1, 0, 1, 1, 1, 1, 1, 0, 1, 1, 0, 0, 0, 1, 0, 0, 1, 1, 0, 0, 0, 1, 1, 0, 1, 1, 0, 1, 1, 0, 0, 0, 0, 1, 0, 0, 1, 1, 1, 0, 0, 0, 1, 0, 0, 0, 1, 1, 0, 0, 0, 0, 0, 0, 0, 1, 0, 0, 0, 1, 0, 0, 1, 0, 1, 1, 1, 0, 1, 1, 1, 0, 0, 0, 1, 0, 1, 1, 1, 0, 1, 0, 1, 1, 1, 1, 1, 0, 0, 1, 0, 1, 0, 1, 1, 1, 1, 1, 1, 1, 1, 1, 0, 0, 1, 1, 0, 0, 0, 0, 0, 1, 1, 1, 0, 0, 0, 1, 1, 1, 0, 1, 1, 1, 0, 1, 1, 1, 1, 0, 1, 1, 0, 1, 1, 0, 0, 1, 0, 0, 0, 0, 0, 0, 1, 0, 1, 0, 0, 1, 0, 0,],\n",
        "        [0.409820601537644, 0.576898711990824, 0.470889482324174, 0.256405709875511, 0.324824743287955, 0.720486944176101, 0.505117423980549, 0.628337793440003, 0.3766485742981, 0.582038340935501, 0.47111425544077, 0.583077119617997, 0.487713476843808, 0.521504558039028, 0.504280339234685, 0.573918135035166, 0.550771455226403, 0.386821260664776, 0.579675796339595, 0.396762942541434, 0.613628268297874, 0.564049628260841, 0.515955884566425, 0.533849837578946, 0.461392654883864, 0.365774837803414, 0.455885406118367, 0.47467002821074, 0.635235288951701, 0.41030850097254, 0.388976490944569, 0.396992348236413, 0.655581130058622, 0.415652961915423, 0.67909634659251, 0.577209573657643, 0.476745370102607, 0.550176243366331, 0.334084653280306, 0.544794001563497, 0.577478374819872, 0.490683962374673, 0.623858929122289, 0.450891761112705, 0.566682602991659, 0.418626637491954, 0.508077097233655, 0.601575518849626, 0.51596937138955, 0.497572188388982, 0.668408944853883, 0.537881107495603, 0.348693133129124, 0.514594346474303, 0.531168285109284, 0.661242147975174, 0.542447276977321, 0.508637371959972, 0.310989712938675, 0.497277171328741, 0.386330916117287, 0.603986762618389, 0.65799779867227, 0.355450818613688, 0.531759855602556, 0.463666561642074, 0.61022286039269, 0.497616120527583, 0.46161528332078, 0.493918581351031, 0.614702858232317, 0.464582152908478, 0.605900157527747, 0.505212362848285, 0.533708038100973, 0.575025248511939, 0.40925478704336, 0.297526104069912, 0.523451797486074, 0.646766881547897, 0.389109549964055, 0.444499857299733, 0.555426825999635, 0.501680817455621, 0.461580973820011, 0.648446887623323, 0.412952924191993, 0.375865761874495, 0.673374365287947, 0.504836074705948, 0.430361148286322, 0.554332314996333, 0.591730105103909, 0.546253978199915, 0.501673100763369, 0.597408848975771, 0.699113936785399, 0.520421016919332, 0.312350048575705, 0.393349436486177, 0.550348521231171, 0.578780369010075, 0.605918424717033, 0.323787196618106, 0.652377285044684, 0.499031583278971, 0.416355691036595, 0.491325325877046, 0.598691802209497, 0.328345651061141, 0.412331720905973, 0.414594613857637, 0.647431723670622, 0.297568158890357, 0.475098095712575, 0.531157659581533, 0.649595661647556, 0.451845631376881, 0.69424962603051, 0.57276495145774, 0.612843453298221, 0.531480214568626, 0.487682790830618, 0.343270350348749, 0.528228638856835, 0.460348104313578, 0.5034904383719, 0.461479935657718, 0.51834673021152, 0.61003344441651, 0.571679755114944, 0.482640646320619, 0.437553004597854, 0.509935505582066, 0.483795310359514, 0.45977991911733, 0.41893092642659, 0.424188258620668, 0.555752481016202, 0.433048435231763, 0.363247350990492, 0.664889227030669, 0.517104763695671, 0.487870352328572, 0.465953308471026, 0.638635050226987, 0.58823553021878, 0.570935007551858, 0.635246180497449, 0.565493932882002, 0.471723098191211, 0.67504529316331, 0.646177801330336, 0.543836837182122, 0.505915173097712, 0.602371609746595, 0.507088300480579, 0.415300152083394, 0.45374081624845, 0.716839003714229, 0.21225672743752, 0.627562445125905, 0.555608590496212, 0.64415734595846, 0.482249309248692, 0.56220050460199, 0.553917679749828, 0.466892421557287, 0.683990905681405, 0.348654379453548, 0.411360069291908, 0.575092011691726, 0.616125059692929, 0.477879093543681, 0.382353805976814, 0.67665623997431, 0.582937236110368, 0.421483696627658, 0.603865530651613, 0.480365146554864, 0.367699760779441, 0.585119367279351, 0.574615811467945, 0.57992861213514, 0.386409652173946, 0.495437596310484, 0.520432291886515, 0.578322108155421, 0.448789589125092, 0.493807458688268, 0.545046917193302, 0.379344801680594, 0.474259013144675, 0.55062185534422, 0.323725032118528, 0.459964518142124, 0.403248336798582, 0.532015423764582, 0.391615044612282, 0.512780939813935, 0.458067260417801, 0.693794793438882, 0.434385074907395, 0.540408714812404, 0.481711553865705, 0.638396263211979, 0.449347248731199, 0.328865669223877, 0.446008411985041, 0.51435271780006, 0.528206935240023, 0.392958454621655, 0.594680512373462, 0.478431731259127, 0.364296958486443, 0.326899044774544, 0.339469615928453, 0.299319007604947, 0.543697628124165, 0.556831573310429, 0.297822493386167, 0.574885524677118, 0.576423088656113, 0.470737322613012, 0.271456797063035, 0.610748980537033, 0.338173376573604, 0.516802731366702, 0.570981771221581, 0.638779404366534, 0.361497920418469, 0.520436468803146, 0.603429228993611, 0.499090632660252, 0.449526550649355, 0.51381837486784, 0.52965168994214, 0.383855230366963, 0.399743332333691, 0.655890748344502, 0.466430602117658, 0.533559609566106, 0.448548080644684, 0.524411369774728, 0.363925771502755, 0.589581903631445, 0.335806390179898, 0.237943872306351, 0.505566795865503, 0.252783940148535, 0.500876356086347, 0.39729641249229, 0.615278663593697, 0.626782199662298, 0.34866638002771, 0.435685436714429, 0.632359168293249, 0.546251688522858, 0.312595739450193, 0.360407190198548, 0.522940438860267, 0.482308193376369, 0.463592315956819, 0.462341510698443, 0.412830441609913, 0.467721439157507, 0.523590529179178, 0.538806038639448, 0.539912337733228, 0.434755273159852, 0.522791592385701, 0.523888249618903, 0.489913073324203, 0.559406298264181, 0.524020108663651, 0.4684760250459, 0.514426475165563, 0.507800852734887, 0.586744999234644, 0.391005492687209, 0.544008585698016, 0.474053556717276, 0.567417887486374, 0.324966510521322, 0.378529027622082, 0.27913253608238, 0.667809878419891, 0.618882603707224, 0.426264825910905, 0.487817635911891, 0.509099574924384, 0.256460420910436, 0.405043516472074, 0.61420185653256, 0.396292396698659, 0.322068384159575, 0.52552992336894, 0.413503256521472, 0.620260494775206, 0.389343893837737, 0.260067187180986, 0.373129186568703, 0.307423497360388, 0.491057243087429, 0.430739453990181, 0.531351378869066, 0.488245861846357, 0.508478111821252, 0.515478573557313, 0.555874993879275, 0.437621513016931,],\n",
        "        [0.526824565403474, 0.606769722285595, 0.499478364573912, 0.33472313623292, 0.403020994140259, 0.149010890828172, 0.544615227457263, 0.586536874940088, 0.480984788202584, 0.571677807370869, 0.538822525766724, 0.60023504488759, 0.369176509512631, 0.526982962014516, 0.239827919097049, 0.578431945270444, 0.556455596641483, 0.0771895536705155, 0.572115182210877, 0.440654916314592, 0.589650514066683, 0.56637280500377, 0.555483493687202, 0.533065725833556, 0.476975563393098, 0.40090075085754, 0.169035833439443, 0.514869842532527, 0.611012063537542, 0.480351739774551, 0.480477497101907, 0.496702225270495, 0.637601025328597, 0.455294467221289, 0.640625652095589, 0.610606986600791, 0.526550316997822, 0.558436671202164, 0.404750830363904, 0.533509094480171, 0.560670618050686, 0.552884251541598, 0.593027909632937, 0.481665593994014, 0.626957547581108, 0.447688672866159, 0.520657176943992, 0.568777923343098, 0.546026406146791, 0.494646051647221, 0.138470541597024, 0.581789722498804, 0.42764086630607, 0.525471320065604, 0.562063763212293, 0.626070920583358, 0.524952132468516, 0.503023628773509, 0.0641259606553215, 0.537120069237766, 0.463875152531183, 0.643571649765683, 0.629224460908763, 0.427427919823642, 0.537799629500854, 0.471225859497603, 0.630547460027453, 0.53223184757623, 0.543214107295653, 0.496202747200477, 0.597265029363746, 0.548341776316717, 0.573836333606396, 0.537841941061165, 0.544723593489033, 0.587214354570156, 0.479503008247985, 0.498660032840677, 0.522971632110151, 0.619433393013114, 0.456262012598477, 0.497303395337851, 0.588507816356946, 0.498461665119123, 0.496212553076481, 0.607300426496569, 0.456553270463135, 0.465239807806077, 0.652274134358482, 0.50911821215714, 0.48066597810753, 0.563378438568569, 0.584868937784023, 0.541621967161235, 0.538762546810268, 0.575265174843121, 0.665723961659503, 0.559609306824821, 0.406121347438218, 0.442661210110223, 0.532533377612019, 0.590769950358592, 0.624517068178323, 0.372082576600735, 0.657091468884119, 0.524562449639663, 0.507596917978747, 0.549836905136277, 0.597920521763784, 0.411894857353562, 0.448348108329567, 0.437580751172759, 0.60221662171246, 0.37026113231037, 0.534524287214766, 0.566304370060596, 0.612553443362167, 0.153602760985874, 0.663058186371641, 0.612942134038317, 0.58887594597282, 0.575413537460475, 0.497031387580511, 0.439589348508284, 0.610345479494126, 0.481768347621522, 0.526093970828832, 0.472364487709452, 0.536097874549568, 0.572343572159153, 0.606931697348052, 0.514100881993979, 0.490622467871724, 0.536786127312252, 0.511543784156159, 0.49410524541254, 0.456851453928555, 0.444011292341661, 0.542414013687006, 0.450779365973677, 0.423264127118155, 0.622459918324265, 0.60079373896463, 0.496158714191175, 0.511974825980301, 0.592432347482757, 0.61041186600998, 0.605712673864194, 0.614621902700413, 0.0750393718958969, 0.502495963043761, 0.62053688827919, 0.598523368119776, 0.574768561777778, 0.508509257646209, 0.586734092592446, 0.499849863991682, 0.482393860205041, 0.471054652544341, 0.667450233978578, 0.326543976765116, 0.627645920047678, 0.607186898506114, 0.647742688392003, 0.502894654928919, 0.248041647223324, 0.567646243095069, 0.475527585528918, 0.629019558541944, 0.472977332017697, 0.444736224430367, 0.5743020430944, 0.586480882542793, 0.580774436910469, 0.429727152332028, 0.662358528665626, 0.642137077289278, 0.487162063522743, 0.594555396497187, 0.481582971534953, 0.41483058053661, 0.561462882923872, 0.558436671202164, 0.572692497334669, 0.441642255749767, 0.508899288296632, 0.576409505345706, 0.553370792834881, 0.468929354848267, 0.505252128588616, 0.553251170367865, 0.430099465359887, 0.488372012815171, 0.591464096040811, 0.385479326807927, 0.512418147440136, 0.483945402484296, 0.558436671202164, 0.431698402778869, 0.621229700428275, 0.480753536289272, 0.659569214046171, 0.500748406519775, 0.573716077591727, 0.509411266955163, 0.60206917127635, 0.140679457595854, 0.388377708023612, 0.496400420871085, 0.513561370283727, 0.214273280950628, 0.494413065475011, 0.567289392928852, 0.559754331918352, 0.43226661056469, 0.380167033214896, 0.391087229147246, 0.357332553554175, 0.565450329804197, 0.541226705508896, 0.373298435458341, 0.605977498881772, 0.601351197500714, 0.516907357547793, 0.344604215878112, 0.605448019790134, 0.43726423484733, 0.557620348308567, 0.605477226452714, 0.637192112656686, 0.108171296634763, 0.516834728119664, 0.574466457901535, 0.196274020473518, 0.162959087816496, 0.550044945785809, 0.583275328780156, 0.431769676962157, 0.43829467817543, 0.615086237692527, 0.533328262871297, 0.18459829616817, 0.165856984716338, 0.54513136752658, 0.415534891278864, 0.264915183408268, 0.435336479827889, 0.330465894307836, 0.509202261075446, 0.349773759619912, 0.496393561997641, 0.449013273729953, 0.58259740514565, 0.628332911939079, 0.0867797150221687, 0.513443464054891, 0.590997787743888, 0.567746279574637, 0.402570980914763, 0.413190485751738, 0.521886819986314, 0.516803977030889, 0.514740114061323, 0.50056166983281, 0.0745199895447843, 0.490493673003983, 0.51593130783915, 0.53317931389307, 0.58043799864509, 0.452642089794478, 0.532936587052353, 0.546291516673335, 0.188426809941137, 0.560617114973137, 0.517055081913291, 0.505612631822153, 0.531948249240451, 0.514529797735257, 0.614319951529853, 0.437050022789416, 0.548586652327081, 0.508962041358076, 0.559323318174686, 0.399823998336997, 0.418389535994812, 0.363262394428618, 0.0852725710878963, 0.583643722699894, 0.449407942507907, 0.524069703284849, 0.546838210833859, 0.327072684729242, 0.127284060245215, 0.612876421888127, 0.474647676206134, 0.392225326290706, 0.513570582923485, 0.448402933722533, 0.605443551882397, 0.649423681666829, 0.329554992100218, 0.432571621493949, 0.371890231489987, 0.513301793492688, 0.524273494012196, 0.533302259698927, 0.568671078940228, 0.518768953662457, 0.109160697669028, 0.558405953694165, 0.464132851476558,]\n",
        "        ]\n",
        "data = pd.DataFrame(np.transpose(data), columns=['default','pd1','pd2'])"
      ],
      "execution_count": 91,
      "outputs": [
        {
          "output_type": "execute_result",
          "data": {
            "text/plain": [
              "(311, 3)"
            ]
          },
          "metadata": {
            "tags": []
          },
          "execution_count": 91
        }
      ]
    },
    {
      "cell_type": "code",
      "metadata": {
        "id": "QOBp2GwNPku1",
        "colab_type": "code",
        "colab": {
          "base_uri": "https://localhost:8080/",
          "height": 85
        },
        "outputId": "6b175fbe-0459-41c4-9df5-f7c03e0807f6"
      },
      "source": [
        "from sklearn.metrics import confusion_matrix\n",
        "\n",
        "cm1 = confusion_matrix(data['default'], data['pd1'].map(round))\n",
        "print(cm1)\n",
        "cm2 = confusion_matrix(data['default'], data['pd2'].map(round))\n",
        "print(cm2)"
      ],
      "execution_count": 179,
      "outputs": [
        {
          "output_type": "stream",
          "text": [
            "[[ 97  60]\n",
            " [ 53 101]]\n",
            "[[ 78  79]\n",
            " [ 47 107]]\n"
          ],
          "name": "stdout"
        }
      ]
    },
    {
      "cell_type": "markdown",
      "metadata": {
        "id": "OKEqkzh4_0Pr",
        "colab_type": "text"
      },
      "source": [
        "### Предложите метрику качества, позволяющую сравнить эти модели и выбрать наилучшую на основе представленных данных."
      ]
    },
    {
      "cell_type": "markdown",
      "metadata": {
        "id": "IkgD8lTF_-Vq",
        "colab_type": "text"
      },
      "source": [
        "Рассмотрим классические метрики бинарной классификации: accuracy, precision, recall, f1"
      ]
    },
    {
      "cell_type": "code",
      "metadata": {
        "id": "_Kor-0yWWtHI",
        "colab_type": "code",
        "colab": {
          "base_uri": "https://localhost:8080/",
          "height": 272
        },
        "outputId": "cacd1161-2a15-4188-b483-b2ed3e857ea2"
      },
      "source": [
        "scores = [sklearn.metrics.accuracy_score, \n",
        "          sklearn.metrics.f1_score, \n",
        "          sklearn.metrics.roc_auc_score, \n",
        "          sklearn.metrics.precision_score, \n",
        "          sklearn.metrics.recall_score]\n",
        "          \n",
        "for score in scores:\n",
        "  print(score.__name__)\n",
        "  print('DP1:', score(data['default'], data['pd1'].map(round)))\n",
        "  print('DP2:', score(data['default'], data['pd2'].map(round)))"
      ],
      "execution_count": 181,
      "outputs": [
        {
          "output_type": "stream",
          "text": [
            "accuracy_score\n",
            "DP1: 0.6366559485530546\n",
            "DP2: 0.594855305466238\n",
            "f1_score\n",
            "DP1: 0.6412698412698412\n",
            "DP2: 0.6294117647058823\n",
            "roc_auc_score\n",
            "DP1: 0.6368392753743073\n",
            "DP2: 0.5958102407146992\n",
            "precision_score\n",
            "DP1: 0.6273291925465838\n",
            "DP2: 0.5752688172043011\n",
            "recall_score\n",
            "DP1: 0.6558441558441559\n",
            "DP2: 0.6948051948051948\n"
          ],
          "name": "stdout"
        }
      ]
    },
    {
      "cell_type": "markdown",
      "metadata": {
        "id": "5kSrVG6_APXR",
        "colab_type": "text"
      },
      "source": [
        "Согласно метрикам accuracy, precision, f1 модель PD1 лучше модели PD2, НО! так как мы прогнозируем дефолт, то нам важно минимизировать кол-во ложных промахов (false negative), что отображает метрика recall. Согласно метрики recall модель PD2 лучше модели PD1.\n"
      ]
    },
    {
      "cell_type": "markdown",
      "metadata": {
        "id": "wvAciw0GEmJL",
        "colab_type": "text"
      },
      "source": [
        "### Также желательно предоставить графическую интерпретацию полученных результатов"
      ]
    },
    {
      "cell_type": "markdown",
      "metadata": {
        "id": "RyhXx9MjZ1Iw",
        "colab_type": "text"
      },
      "source": [
        "## Задача 4"
      ]
    },
    {
      "cell_type": "markdown",
      "metadata": {
        "id": "WtAlHvNgZ6Bj",
        "colab_type": "text"
      },
      "source": [
        "### Напишите следующие SQL-запросы: Вывести список сотрудников, получающих заработную плату выше 50 000. Формат вывода - список ID"
      ]
    },
    {
      "cell_type": "markdown",
      "metadata": {
        "id": "SMqnLi2lZxn9",
        "colab_type": "text"
      },
      "source": [
        "```\n",
        "SELECT ID FROM EMPLOYEE WHERE SALARY > 50000;\n",
        "```\n"
      ]
    },
    {
      "cell_type": "markdown",
      "metadata": {
        "id": "juBjBqRbayiy",
        "colab_type": "text"
      },
      "source": [
        "### Вывести названия всех отделов с количеством сотрудников более 5 и количество сотрудников в этих отделах (Поля вывода: Название отдела, количество сотрудников)"
      ]
    },
    {
      "cell_type": "markdown",
      "metadata": {
        "id": "n6fCcKTKuwjS",
        "colab_type": "text"
      },
      "source": [
        "```\n",
        "SELECT DEPARTMENT.NAME as \"Название отдела\", \n",
        "total as \"количество сотрудников\" FROM (\n",
        "SELECT EMPLOYEE.DEPARTAMENT_ID, COUNT(*) AS total\n",
        "FROM EMPLOYEE\n",
        "GROUP BY EMPLOYEE.DEPARTAMENT_ID ) as tmp\n",
        "INNER JOIN DEPARTMENT\n",
        "ON DEPARTMENT.ID = tmp.DEPARTAMENT_ID\n",
        "WHERE total > 5\n",
        "```\n",
        "\n"
      ]
    },
    {
      "cell_type": "markdown",
      "metadata": {
        "id": "lR1jy4NtuO93",
        "colab_type": "text"
      },
      "source": [
        "### Вывести список сотрудников с минимальной заработной платой в своих отделах в формате ID, ФИО, Название отдела"
      ]
    },
    {
      "cell_type": "markdown",
      "metadata": {
        "id": "0EZBZgnk1tSW",
        "colab_type": "text"
      },
      "source": [
        "```\n",
        "SELECT t1.ID, t1.NAME as \"ФИО\", \n",
        "t2.NAME as \"Название отдела\" FROM\n",
        "(SELECT e.* FROM EMPLOYEE e\n",
        "WHERE e.salary = (SELECT MIN(SALARY) FROM EMPLOYEE AS min WHERE min.DEPARTAMENT_ID = e.DEPARTAMENT_ID)) t1\n",
        "INNER JOIN DEPARTMENT AS t2\n",
        "ON t1.DEPARTAMENT_ID = t2.ID;\n",
        "```\n",
        "\n"
      ]
    }
  ]
}